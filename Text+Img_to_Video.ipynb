{
  "nbformat": 4,
  "nbformat_minor": 0,
  "metadata": {
    "colab": {
      "provenance": [],
      "authorship_tag": "ABX9TyOrpOCYuHCB98ngxn0ac9en",
      "include_colab_link": true
    },
    "kernelspec": {
      "name": "python3",
      "display_name": "Python 3"
    },
    "language_info": {
      "name": "python"
    }
  },
  "cells": [
    {
      "cell_type": "markdown",
      "metadata": {
        "id": "view-in-github",
        "colab_type": "text"
      },
      "source": [
        "<a href=\"https://colab.research.google.com/github/athishsreeram/Text-to-Video/blob/main/Text%2BImg_to_Video.ipynb\" target=\"_parent\"><img src=\"https://colab.research.google.com/assets/colab-badge.svg\" alt=\"Open In Colab\"/></a>"
      ]
    },
    {
      "cell_type": "code",
      "source": [
        "!pip install pillow gTTS moviepy pydub"
      ],
      "metadata": {
        "colab": {
          "base_uri": "https://localhost:8080/"
        },
        "id": "-EP2S6_6ZpBU",
        "outputId": "d0e7c242-299c-4b04-e56d-68732d248656"
      },
      "execution_count": 1,
      "outputs": [
        {
          "output_type": "stream",
          "name": "stdout",
          "text": [
            "Requirement already satisfied: pillow in /usr/local/lib/python3.10/dist-packages (9.4.0)\n",
            "Collecting gTTS\n",
            "  Downloading gTTS-2.5.2-py3-none-any.whl.metadata (4.1 kB)\n",
            "Requirement already satisfied: moviepy in /usr/local/lib/python3.10/dist-packages (1.0.3)\n",
            "Collecting pydub\n",
            "  Downloading pydub-0.25.1-py2.py3-none-any.whl.metadata (1.4 kB)\n",
            "Requirement already satisfied: requests<3,>=2.27 in /usr/local/lib/python3.10/dist-packages (from gTTS) (2.31.0)\n",
            "Requirement already satisfied: click<8.2,>=7.1 in /usr/local/lib/python3.10/dist-packages (from gTTS) (8.1.7)\n",
            "Requirement already satisfied: decorator<5.0,>=4.0.2 in /usr/local/lib/python3.10/dist-packages (from moviepy) (4.4.2)\n",
            "Requirement already satisfied: tqdm<5.0,>=4.11.2 in /usr/local/lib/python3.10/dist-packages (from moviepy) (4.66.4)\n",
            "Requirement already satisfied: proglog<=1.0.0 in /usr/local/lib/python3.10/dist-packages (from moviepy) (0.1.10)\n",
            "Requirement already satisfied: numpy>=1.17.3 in /usr/local/lib/python3.10/dist-packages (from moviepy) (1.25.2)\n",
            "Requirement already satisfied: imageio<3.0,>=2.5 in /usr/local/lib/python3.10/dist-packages (from moviepy) (2.34.2)\n",
            "Requirement already satisfied: imageio-ffmpeg>=0.2.0 in /usr/local/lib/python3.10/dist-packages (from moviepy) (0.5.1)\n",
            "Requirement already satisfied: setuptools in /usr/local/lib/python3.10/dist-packages (from imageio-ffmpeg>=0.2.0->moviepy) (71.0.4)\n",
            "Requirement already satisfied: charset-normalizer<4,>=2 in /usr/local/lib/python3.10/dist-packages (from requests<3,>=2.27->gTTS) (3.3.2)\n",
            "Requirement already satisfied: idna<4,>=2.5 in /usr/local/lib/python3.10/dist-packages (from requests<3,>=2.27->gTTS) (3.7)\n",
            "Requirement already satisfied: urllib3<3,>=1.21.1 in /usr/local/lib/python3.10/dist-packages (from requests<3,>=2.27->gTTS) (2.0.7)\n",
            "Requirement already satisfied: certifi>=2017.4.17 in /usr/local/lib/python3.10/dist-packages (from requests<3,>=2.27->gTTS) (2024.7.4)\n",
            "Downloading gTTS-2.5.2-py3-none-any.whl (29 kB)\n",
            "Downloading pydub-0.25.1-py2.py3-none-any.whl (32 kB)\n",
            "Installing collected packages: pydub, gTTS\n",
            "Successfully installed gTTS-2.5.2 pydub-0.25.1\n"
          ]
        }
      ]
    },
    {
      "cell_type": "code",
      "execution_count": 2,
      "metadata": {
        "colab": {
          "base_uri": "https://localhost:8080/"
        },
        "id": "lQahoNIXZnqj",
        "outputId": "25c9063c-44bc-4e30-c155-8d8ec696af61"
      },
      "outputs": [
        {
          "output_type": "stream",
          "name": "stderr",
          "text": [
            "WARNING:py.warnings:<ipython-input-2-b6321765a306>:43: DeprecationWarning: getsize is deprecated and will be removed in Pillow 10 (2023-07-01). Use getbbox or getlength instead.\n",
            "  text_width, text_height = fnt.getsize(word)\n",
            "\n"
          ]
        },
        {
          "output_type": "stream",
          "name": "stdout",
          "text": [
            "Moviepy - Building video output.mp4.\n",
            "MoviePy - Writing audio in outputTEMP_MPY_wvf_snd.mp3\n"
          ]
        },
        {
          "output_type": "stream",
          "name": "stderr",
          "text": []
        },
        {
          "output_type": "stream",
          "name": "stdout",
          "text": [
            "MoviePy - Done.\n",
            "Moviepy - Writing video output.mp4\n",
            "\n"
          ]
        },
        {
          "output_type": "stream",
          "name": "stderr",
          "text": []
        },
        {
          "output_type": "stream",
          "name": "stdout",
          "text": [
            "Moviepy - Done !\n",
            "Moviepy - video ready output.mp4\n"
          ]
        }
      ],
      "source": [
        "from PIL import ImageFont, ImageDraw, Image\n",
        "from gtts import gTTS\n",
        "from moviepy.editor import ImageSequenceClip, AudioFileClip\n",
        "import argparse\n",
        "from pydub import AudioSegment\n",
        "import numpy as np\n",
        "import os\n",
        "\n",
        "# Variables for customization\n",
        "TEXT_SPEED = 24  # frames per second\n",
        "TEXT_COLOR = (0, 0, 0)\n",
        "FONT_PATH = \"/content/DMSerifDisplay-Regular.ttf\"  # Path to .ttf font file (change this to your font file)\n",
        "FONT_SIZE = 180\n",
        "TIMING_ADJUSTMENT = -0.3  # Adjusts the duration of each word in the video\n",
        "BACKGROUND_IMAGE_PATH = \"/content/1.png\"  # Path to the background image file\n",
        "VIDEO_SIZE = (1080, 1920)\n",
        "\n",
        "def get_word_durations(textfile, audiofile):\n",
        "    with open(textfile, \"r\") as f:\n",
        "        lines = f.read()\n",
        "\n",
        "    words = lines.split()\n",
        "\n",
        "    # Load the audio file\n",
        "    audio = AudioSegment.from_file(audiofile)\n",
        "    full_audio_duration = len(audio) / 1000  # duration in seconds\n",
        "\n",
        "    # Calculate average duration per word\n",
        "    avg_word_duration = full_audio_duration / len(words)\n",
        "\n",
        "    # Print duration for each word\n",
        "    for i, word in enumerate(words):\n",
        "        print(f\"Word: '{word}' Duration: {avg_word_duration:.2f} seconds\")\n",
        "\n",
        "\n",
        "def text_to_video(textfile, outputfile):\n",
        "    with open(textfile, \"r\") as f:\n",
        "        lines = f.read()\n",
        "\n",
        "    words = lines.split()\n",
        "    images = []\n",
        "    durations = []\n",
        "\n",
        "    fnt = ImageFont.truetype(FONT_PATH, FONT_SIZE)\n",
        "\n",
        "    # Generate speech for the whole text and save as a temporary file\n",
        "    tts = gTTS(text=lines, lang=\"en\")\n",
        "    tts.save(\"temp.mp3\")\n",
        "\n",
        "    # Measure the speech duration using pydub\n",
        "    full_audio = AudioSegment.from_file(\"temp.mp3\")\n",
        "    full_audio_duration = len(full_audio) / 1000  # duration in seconds\n",
        "    avg_word_duration = full_audio_duration / len(words)  # average duration per word\n",
        "    durations.append(avg_word_duration + TIMING_ADJUSTMENT)  # Adjust frame duration based on average word duration and timing adjustment\n",
        "\n",
        "    # Load the background image\n",
        "    bg_img = Image.open(BACKGROUND_IMAGE_PATH).resize(VIDEO_SIZE)\n",
        "\n",
        "    for i, word in enumerate(words):\n",
        "        # Calculate text size and position\n",
        "        text_width, text_height = fnt.getsize(word)\n",
        "        position = ((VIDEO_SIZE[0] - text_width) / 2, (VIDEO_SIZE[1] - text_height) / 2)\n",
        "\n",
        "        # Create a new image with the background\n",
        "        img = bg_img.copy()\n",
        "        d = ImageDraw.Draw(img)\n",
        "        d.text(position, word, font=fnt, fill=TEXT_COLOR)\n",
        "\n",
        "        images.append(np.array(img))\n",
        "        durations.append(avg_word_duration)  # Set frame duration based on average word duration\n",
        "\n",
        "    audioclip = AudioFileClip(\"temp.mp3\")\n",
        "    clip = ImageSequenceClip(images, durations=durations)\n",
        "    clip = clip.set_audio(audioclip)\n",
        "\n",
        "    clip.fps = TEXT_SPEED\n",
        "    clip.write_videofile(outputfile, codec=\"libx264\")\n",
        "\n",
        "\n",
        "\n",
        "if __name__ == \"__main__\":\n",
        "    text_to_video(\"N.txt\", \"output.mp4\")\n",
        "    get_word_durations(\"N.txt\", \"temp.mp3\")\n",
        "    # Remove the temporary file\n",
        "    # os.remove(\"temp.mp3\")\n"
      ]
    }
  ]
}