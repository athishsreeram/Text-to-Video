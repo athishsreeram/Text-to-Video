{
  "nbformat": 4,
  "nbformat_minor": 0,
  "metadata": {
    "colab": {
      "provenance": [],
      "authorship_tag": "ABX9TyOklIdaUr+cRVI53rSingGL",
      "include_colab_link": true
    },
    "kernelspec": {
      "name": "python3",
      "display_name": "Python 3"
    },
    "language_info": {
      "name": "python"
    }
  },
  "cells": [
    {
      "cell_type": "markdown",
      "metadata": {
        "id": "view-in-github",
        "colab_type": "text"
      },
      "source": [
        "<a href=\"https://colab.research.google.com/github/athishsreeram/Text-to-Video/blob/main/Text_to_Python.ipynb\" target=\"_parent\"><img src=\"https://colab.research.google.com/assets/colab-badge.svg\" alt=\"Open In Colab\"/></a>"
      ]
    },
    {
      "cell_type": "code",
      "execution_count": null,
      "metadata": {
        "colab": {
          "base_uri": "https://localhost:8080/"
        },
        "id": "c--fbAiX7Iey",
        "outputId": "ec00ff57-fa6b-47c7-afc7-8d0b246df651"
      },
      "outputs": [
        {
          "output_type": "stream",
          "name": "stdout",
          "text": [
            "Requirement already satisfied: pillow in /usr/local/lib/python3.10/dist-packages (9.4.0)\n",
            "Collecting gTTS\n",
            "  Using cached gTTS-2.5.2-py3-none-any.whl.metadata (4.1 kB)\n",
            "Requirement already satisfied: moviepy in /usr/local/lib/python3.10/dist-packages (1.0.3)\n",
            "Collecting pydub\n",
            "  Using cached pydub-0.25.1-py2.py3-none-any.whl.metadata (1.4 kB)\n",
            "Requirement already satisfied: requests<3,>=2.27 in /usr/local/lib/python3.10/dist-packages (from gTTS) (2.31.0)\n",
            "Requirement already satisfied: click<8.2,>=7.1 in /usr/local/lib/python3.10/dist-packages (from gTTS) (8.1.7)\n",
            "Requirement already satisfied: decorator<5.0,>=4.0.2 in /usr/local/lib/python3.10/dist-packages (from moviepy) (4.4.2)\n",
            "Requirement already satisfied: tqdm<5.0,>=4.11.2 in /usr/local/lib/python3.10/dist-packages (from moviepy) (4.66.4)\n",
            "Requirement already satisfied: proglog<=1.0.0 in /usr/local/lib/python3.10/dist-packages (from moviepy) (0.1.10)\n",
            "Requirement already satisfied: numpy>=1.17.3 in /usr/local/lib/python3.10/dist-packages (from moviepy) (1.25.2)\n",
            "Requirement already satisfied: imageio<3.0,>=2.5 in /usr/local/lib/python3.10/dist-packages (from moviepy) (2.31.6)\n",
            "Requirement already satisfied: imageio-ffmpeg>=0.2.0 in /usr/local/lib/python3.10/dist-packages (from moviepy) (0.5.1)\n",
            "Requirement already satisfied: setuptools in /usr/local/lib/python3.10/dist-packages (from imageio-ffmpeg>=0.2.0->moviepy) (71.0.4)\n",
            "Requirement already satisfied: charset-normalizer<4,>=2 in /usr/local/lib/python3.10/dist-packages (from requests<3,>=2.27->gTTS) (3.3.2)\n",
            "Requirement already satisfied: idna<4,>=2.5 in /usr/local/lib/python3.10/dist-packages (from requests<3,>=2.27->gTTS) (3.7)\n",
            "Requirement already satisfied: urllib3<3,>=1.21.1 in /usr/local/lib/python3.10/dist-packages (from requests<3,>=2.27->gTTS) (2.0.7)\n",
            "Requirement already satisfied: certifi>=2017.4.17 in /usr/local/lib/python3.10/dist-packages (from requests<3,>=2.27->gTTS) (2024.7.4)\n",
            "Downloading gTTS-2.5.2-py3-none-any.whl (29 kB)\n",
            "Downloading pydub-0.25.1-py2.py3-none-any.whl (32 kB)\n",
            "Installing collected packages: pydub, gTTS\n",
            "Successfully installed gTTS-2.5.2 pydub-0.25.1\n"
          ]
        }
      ],
      "source": [
        "!pip install pillow gTTS moviepy pydub"
      ]
    },
    {
      "cell_type": "code",
      "source": [
        "from PIL import ImageFont, ImageDraw, Image\n",
        "from gtts import gTTS\n",
        "from moviepy.editor import ImageSequenceClip, AudioFileClip\n",
        "import argparse\n",
        "from pydub import AudioSegment\n",
        "import colorsys\n",
        "import numpy as np\n",
        "import os\n",
        "\n",
        "# Variables for customization\n",
        "TEXT_SPEED = 24  # frames per second\n",
        "TEXT_COLOR = (255, 255, 255)\n",
        "FONT_PATH = \"/content/DMSerifDisplay-Regular.ttf\" # Path to .ttf font file (change this to your font file)\n",
        "FONT_SIZE = 180\n",
        "BACKGROUND_SPEED = 0.8  # Background color change speed (lower value means slower)\n",
        "TIMING_ADJUSTMENT = -0.3  # Adjusts the duration of each word in the video\n",
        "START_BG_COLOR = \"#000000\"  # Start color in HEX\n",
        "END_BG_COLOR = \"#6638f0\"  # End color in HEX\n",
        "VIDEO_SIZE = (1080, 1920)\n",
        "\n",
        "\n",
        "# Function to convert HEX color to RGB\n",
        "def hex_to_rgb(hex_color):\n",
        "    hex_color = hex_color.lstrip(\"#\")\n",
        "    return tuple(int(hex_color[i : i + 2], 16) for i in (0, 2, 4))\n",
        "\n",
        "\n",
        "# interpolate color\n",
        "def interpolate_color(start_color, end_color, progress):\n",
        "    start_color = hex_to_rgb(start_color)\n",
        "    end_color = hex_to_rgb(end_color)\n",
        "\n",
        "    start_h, start_s, start_v = colorsys.rgb_to_hsv(\n",
        "        start_color[0] / 255, start_color[1] / 255, start_color[2] / 255\n",
        "    )\n",
        "    end_h, end_s, end_v = colorsys.rgb_to_hsv(\n",
        "        end_color[0] / 255, end_color[1] / 255, end_color[2] / 255\n",
        "    )\n",
        "\n",
        "    interpolated_h = start_h + (end_h - start_h) * progress\n",
        "    interpolated_s = start_s + (end_s - start_s) * progress\n",
        "    interpolated_v = start_v + (end_v - start_v) * progress\n",
        "\n",
        "    r, g, b = colorsys.hsv_to_rgb(interpolated_h, interpolated_s, interpolated_v)\n",
        "\n",
        "    return int(r * 255), int(g * 255), int(b * 255)\n",
        "\n",
        "\n",
        "def text_to_video(textfile, outputfile):\n",
        "    with open(textfile, \"r\") as f:\n",
        "        lines = f.read()\n",
        "\n",
        "    words = lines.split()\n",
        "    images = []\n",
        "    durations = []\n",
        "\n",
        "    fnt = ImageFont.truetype(FONT_PATH, FONT_SIZE)\n",
        "\n",
        "    # Generate speech for the whole text and save as a temporary file\n",
        "    tts = gTTS(text=lines, lang=\"en\")\n",
        "    tts.save(\"temp.mp3\")\n",
        "\n",
        "    # Measure the speech duration using pydub\n",
        "    full_audio = AudioSegment.from_file(\"temp.mp3\")\n",
        "    full_audio_duration = len(full_audio) / 1000  # duration in seconds\n",
        "    avg_word_duration = full_audio_duration / len(words)  # average duration per word\n",
        "    # Inside your text_to_video function, when setting frame duration:\n",
        "    durations.append(\n",
        "        avg_word_duration + TIMING_ADJUSTMENT\n",
        "    )  # Adjust frame duration based on average word duration and timing adjustment\n",
        "\n",
        "    for i, word in enumerate(words):\n",
        "        # Calculate text size and position only once per word\n",
        "        text_width, text_height = fnt.getsize(word)\n",
        "        position = ((VIDEO_SIZE[0] - text_width) / 2, (VIDEO_SIZE[1] - text_height) / 2)\n",
        "\n",
        "        # Calculate background color based on word index and total number of words\n",
        "        background_progress = i / len(words)\n",
        "        background_color = interpolate_color(\n",
        "            START_BG_COLOR, END_BG_COLOR, background_progress\n",
        "        )\n",
        "\n",
        "        img = Image.new(\n",
        "            \"RGB\", VIDEO_SIZE, color=background_color\n",
        "        )  # Set background color\n",
        "        d = ImageDraw.Draw(img)\n",
        "        d.text(position, word, font=fnt, fill=TEXT_COLOR)\n",
        "\n",
        "        images.append(np.array(img))\n",
        "        durations.append(\n",
        "            avg_word_duration\n",
        "        )  # Set frame duration based on average word duration\n",
        "\n",
        "    audioclip = AudioFileClip(\"temp.mp3\")\n",
        "    clip = ImageSequenceClip(images, durations=durations)\n",
        "    clip = clip.set_audio(audioclip)\n",
        "\n",
        "    clip.fps = TEXT_SPEED\n",
        "    clip.write_videofile(outputfile, codec=\"libx264\")\n",
        "\n",
        "    # Remove the temporary file\n",
        "    os.remove(\"temp.mp3\")\n",
        "\n",
        "\n",
        "\n",
        "if __name__ == \"__main__\":\n",
        "    text_to_video(\"N.txt\", \"output.mp4\")\n"
      ],
      "metadata": {
        "colab": {
          "base_uri": "https://localhost:8080/"
        },
        "id": "CDB9gIqu7LTF",
        "outputId": "9c64b260-a3cb-4f8b-a20a-fa2cc1760dfd"
      },
      "execution_count": null,
      "outputs": [
        {
          "output_type": "stream",
          "name": "stderr",
          "text": [
            "WARNING:py.warnings:<ipython-input-24-88342aa01d96>:74: DeprecationWarning: getsize is deprecated and will be removed in Pillow 10 (2023-07-01). Use getbbox or getlength instead.\n",
            "  text_width, text_height = fnt.getsize(word)\n",
            "\n"
          ]
        },
        {
          "output_type": "stream",
          "name": "stdout",
          "text": [
            "Moviepy - Building video output.mp4.\n",
            "MoviePy - Writing audio in outputTEMP_MPY_wvf_snd.mp3\n"
          ]
        },
        {
          "output_type": "stream",
          "name": "stderr",
          "text": []
        },
        {
          "output_type": "stream",
          "name": "stdout",
          "text": [
            "MoviePy - Done.\n",
            "Moviepy - Writing video output.mp4\n",
            "\n"
          ]
        },
        {
          "output_type": "stream",
          "name": "stderr",
          "text": []
        },
        {
          "output_type": "stream",
          "name": "stdout",
          "text": [
            "Moviepy - Done !\n",
            "Moviepy - video ready output.mp4\n"
          ]
        }
      ]
    }
  ]
}